{
 "cells": [
  {
   "cell_type": "markdown",
   "metadata": {},
   "source": [
    "# Tensorflow Tutorial"
   ]
  },
  {
   "cell_type": "code",
   "execution_count": 1,
   "metadata": {},
   "outputs": [],
   "source": [
    "import tensorflow as tf\n",
    "import matplotlib.pyplot as plt\n",
    "import numpy as np"
   ]
  },
  {
   "cell_type": "code",
   "execution_count": 2,
   "metadata": {},
   "outputs": [
    {
     "name": "stdout",
     "output_type": "stream",
     "text": [
      "Num CPUs Available:  1\n",
      "Num GPUs Available:  0\n"
     ]
    }
   ],
   "source": [
    "print(\"Num CPUs Available: \", len(tf.config.experimental.list_physical_devices('CPU')))\n",
    "print(\"Num GPUs Available: \", len(tf.config.experimental.list_physical_devices('GPU')))"
   ]
  },
  {
   "cell_type": "markdown",
   "metadata": {},
   "source": [
    "## Training Data"
   ]
  },
  {
   "cell_type": "code",
   "execution_count": 45,
   "metadata": {},
   "outputs": [],
   "source": [
    "# create pseudo data\n",
    "m = 2\n",
    "b = 0.5\n",
    "x = np.linspace(0,4,100)\n",
    "y = m * x + b + np.random.randn(*x.shape) + 0.25\n",
    "#print(x)\n",
    "#print(y)"
   ]
  },
  {
   "cell_type": "code",
   "execution_count": 46,
   "metadata": {},
   "outputs": [
    {
     "data": {
      "text/plain": [
       "<matplotlib.collections.PathCollection at 0x646882c10>"
      ]
     },
     "execution_count": 46,
     "metadata": {},
     "output_type": "execute_result"
    },
    {
     "data": {
      "image/png": "[encoded data removed]",
      "text/plain": [
       "<Figure size 432x288 with 1 Axes>"
      ]
     },
     "metadata": {
      "needs_background": "light"
     },
     "output_type": "display_data"
    }
   ],
   "source": [
    "plt.scatter(x,y)"
   ]
  },
  {
   "cell_type": "code",
   "execution_count": 59,
   "metadata": {},
   "outputs": [
    {
     "name": "stdout",
     "output_type": "stream",
     "text": [
      "0.21824487735023723\n",
      "0.24827624652653835\n",
      "0.8642254620604921\n",
      "0.8297285252760238\n",
      "0.9731247775219517\n",
      "0.37969310488825403\n",
      "0.8041643773869277\n",
      "0.7461763995176681\n",
      "0.89978183148965\n",
      "0.8478876245881436\n"
     ]
    }
   ],
   "source": [
    "for i in range(10):\n",
    "    print(np.random.rand())"
   ]
  },
  {
   "cell_type": "code",
   "execution_count": 68,
   "metadata": {},
   "outputs": [
    {
     "name": "stdout",
     "output_type": "stream",
     "text": [
      "<tf.Variable 'Variable:0' shape=() dtype=float32, numpy=10.0>\n",
      "<tf.Variable 'Variable:0' shape=() dtype=float32, numpy=15.0>\n",
      "<tf.Variable 'Variable:0' shape=() dtype=float32, numpy=8.0>\n",
      "<tf.Variable 'Variable:0' shape=() dtype=float32, numpy=20.0>\n"
     ]
    }
   ],
   "source": [
    "# testing tf.Variable() methods\n",
    "tmp = tf.Variable(10.0)\n",
    "print(tmp)\n",
    "tmp.assign_add(5.0)\n",
    "print(tmp)\n",
    "tmp.assign_sub(7.0)\n",
    "print(tmp)\n",
    "tmp.assign(20.0)\n",
    "print(tmp)"
   ]
  },
  {
   "cell_type": "code",
   "execution_count": 77,
   "metadata": {},
   "outputs": [
    {
     "name": "stdout",
     "output_type": "stream",
     "text": [
      "[ 0.  1.  2.  3.  4.  5.  6.  7.  8.  9. 10.]\n",
      "5.0\n",
      "tf.Tensor(5.0, shape=(), dtype=float64)\n",
      "tf.Tensor([  0.   1.   4.   9.  16.  25.  36.  49.  64.  81. 100.], shape=(11,), dtype=float64)\n",
      "35.0\n",
      "tf.Tensor(35.0, shape=(), dtype=float64)\n"
     ]
    }
   ],
   "source": [
    "vals = np.linspace(0,10,11)\n",
    "print(vals)\n",
    "print(np.mean(vals))\n",
    "print(tf.reduce_mean(vals))\n",
    "print(tf.square(vals))\n",
    "print(np.mean(tf.square(vals)))\n",
    "print(tf.reduce_mean(tf.square(vals)))"
   ]
  },
  {
   "cell_type": "code",
   "execution_count": 84,
   "metadata": {},
   "outputs": [
    {
     "name": "stdout",
     "output_type": "stream",
     "text": [
      "var: 1\n"
     ]
    }
   ],
   "source": [
    "var = 1\n",
    "print(f\"var: {var}\")"
   ]
  },
  {
   "cell_type": "markdown",
   "metadata": {},
   "source": [
    "## Model Class"
   ]
  },
  {
   "cell_type": "code",
   "execution_count": 78,
   "metadata": {},
   "outputs": [],
   "source": [
    "class Model:\n",
    "    def __init__(self):\n",
    "        self.weight = tf.Variable(10.0)\n",
    "        self.bias   = tf.Variable(10.0)\n",
    "        \n",
    "    def __call__(self, x):\n",
    "        return self.weight * x + self.bias"
   ]
  },
  {
   "cell_type": "code",
   "execution_count": 1,
   "metadata": {},
   "outputs": [],
   "source": [
    "# We use __call__() so that we can use this function with parentheses, e.g. model()\n",
    "# For example,\n",
    "# model = Model()\n",
    "# model(5.0)"
   ]
  },
  {
   "cell_type": "code",
   "execution_count": 80,
   "metadata": {},
   "outputs": [],
   "source": [
    "def calculate_loss(y_expected, y_predicted):\n",
    "    return tf.reduce_mean(tf.square(y_expected - y_predicted))"
   ]
  },
  {
   "cell_type": "code",
   "execution_count": 82,
   "metadata": {},
   "outputs": [],
   "source": [
    "def train(model, x, y, learning_rate):\n",
    "    with tf.GradientTape() as gt:\n",
    "        y_predicted = model(x)\n",
    "        loss = calculate_loss(y, y_predicted)\n",
    "    # differentiate the loss with respect to weight and bias\n",
    "    dw_dl, db_dl = gt.gradient(loss, [model.weight, model.bias])\n",
    "    # subtract derivative times learning rate from current values\n",
    "    # the goal is to minimize the loss\n",
    "    model.weight.assign_sub(learning_rate * dw_dl)\n",
    "    model.bias.assign_sub(learning_rate * db_dl)"
   ]
  },
  {
   "cell_type": "markdown",
   "metadata": {},
   "source": [
    "## Train"
   ]
  },
  {
   "cell_type": "code",
   "execution_count": 110,
   "metadata": {},
   "outputs": [
    {
     "name": "stdout",
     "output_type": "stream",
     "text": [
      "epoch: 0, loss: 731.3988037109375, weight: 10.0, bias: 10.0\n",
      "epoch: 1, loss: 519.4813232421875, weight: -8.494813919067383, bias: 2.400866985321045\n",
      "epoch: 2, loss: 369.2339172363281, weight: 7.311008453369141, bias: 8.178361892700195\n",
      "epoch: 3, loss: 262.6863708496094, weight: -5.766707420349121, bias: 2.739114761352539\n",
      "epoch: 4, loss: 187.10755920410156, weight: 5.449151039123535, bias: 6.7782721519470215\n",
      "epoch: 5, loss: 133.47811889648438, weight: -3.794492721557617, bias: 2.876166582107544\n",
      "epoch: 6, loss: 95.40789031982422, weight: 4.1676530838012695, bias: 5.6908793449401855\n",
      "epoch: 7, loss: 68.36909484863281, weight: -2.362802505493164, bias: 2.8838906288146973\n",
      "epoch: 8, loss: 49.153316497802734, weight: 3.2924351692199707, bias: 4.837271690368652\n",
      "epoch: 9, loss: 35.486820220947266, weight: -1.318434715270996, bias: 2.8114960193634033\n",
      "epoch: 10, loss: 25.758058547973633, weight: 2.7008118629455566, bias: 4.159975051879883\n",
      "epoch: 11, loss: 18.824668884277344, weight: -0.5523018836975098, bias: 2.6923623085021973\n",
      "epoch: 12, loss: 13.876689910888672, weight: 2.3064215183258057, bias: 3.6169018745422363\n",
      "epoch: 13, loss: 10.339744567871094, weight: 0.013363122940063477, bias: 2.5488452911376953\n",
      "epoch: 14, loss: 7.8063788414001465, weight: 2.0485618114471436, bias: 3.1770408153533936\n",
      "epoch: 15, loss: 5.987466335296631, weight: 0.4340791702270508, bias: 2.395658493041992\n",
      "epoch: 16, loss: 4.677753448486328, weight: 1.8846447467803955, bias: 2.817380428314209\n",
      "epoch: 17, loss: 3.731450080871582, weight: 0.7495503425598145, bias: 2.242246389389038\n",
      "epoch: 18, loss: 3.0449469089508057, weight: 1.7848598957061768, bias: 2.520709276199341\n",
      "epoch: 19, loss: 2.5445456504821777, weight: 0.9882301688194275, bias: 2.094447612762451\n",
      "epoch: 20, loss: 2.177778720855713, weight: 1.7284024953842163, bias: 2.2740421295166016\n",
      "epoch: 21, loss: 1.907251238822937, weight: 1.1705610752105713, bias: 1.9556548595428467\n",
      "epoch: 22, loss: 1.7062700986862183, weight: 1.7008061408996582, bias: 2.067488670349121\n",
      "epoch: 23, loss: 1.555753231048584, weight: 1.3112740516662598, bias: 1.8276252746582031\n",
      "epoch: 24, loss: 1.4420286417007446, weight: 1.6920591592788696, bias: 1.8934402465820312\n",
      "epoch: 25, loss: 1.3552789688110352, weight: 1.4210220575332642, bias: 1.711039662361145\n",
      "epoch: 26, loss: 1.2884315252304077, weight: 1.695274829864502, bias: 1.7459814548492432\n",
      "epoch: 27, loss: 1.2363759279251099, weight: 1.5075418949127197, bias: 1.605889081954956\n",
      "epoch: 28, loss: 1.1954022645950317, weight: 1.7057541608810425, bias: 1.6204642057418823\n",
      "epoch: 29, loss: 1.1628050804138184, weight: 1.5764799118041992, bias: 1.5117393732070923\n",
      "epoch: 30, loss: 1.1366006135940552, weight: 1.720324158668518, bias: 1.513196587562561\n",
      "epoch: 31, loss: 1.1153244972229004, weight: 1.6319808959960938, bias: 1.4279100894927979\n",
      "epoch: 32, loss: 1.0978883504867554, weight: 1.7368725538253784, bias: 1.4212154150009155\n",
      "epoch: 33, loss: 1.0834763050079346, weight: 1.6771067380905151, bias: 1.353594183921814\n",
      "epoch: 34, loss: 1.0714709758758545, weight: 1.7540218830108643, bias: 1.3421188592910767\n",
      "epoch: 35, loss: 1.0614013671875, weight: 1.7141366004943848, bias: 1.287937045097351\n",
      "epoch: 36, loss: 1.0529043674468994, weight: 1.7708990573883057, bias: 1.273940920829773\n",
      "epoch: 37, loss: 1.0456963777542114, weight: 1.7447805404663086, bias: 1.230086088180542\n",
      "epoch: 38, loss: 1.0395545959472656, weight: 1.7869757413864136, bias: 1.2150589227676392\n",
      "epoch: 39, loss: 1.0343011617660522, weight: 1.7703338861465454, bias: 1.1792227029800415\n",
      "epoch: 40, loss: 1.0297926664352417, weight: 1.801955223083496, bias: 1.1641225814819336\n",
      "epoch: 41, loss: 1.0259135961532593, weight: 1.791787028312683, bias: 1.1345796585083008\n",
      "epoch: 42, loss: 1.022567868232727, weight: 1.8156957626342773, bias: 1.1200004816055298\n",
      "epoch: 43, loss: 1.0196774005889893, weight: 1.8099048137664795, bias: 1.0954498052597046\n",
      "epoch: 44, loss: 1.0171759128570557, weight: 1.828156590461731, bias: 1.0817389488220215\n",
      "epoch: 45, loss: 1.0150084495544434, weight: 1.8252846002578735, bias: 1.0611902475357056\n",
      "epoch: 46, loss: 1.0131285190582275, weight: 1.839360237121582, bias: 1.0485293865203857\n",
      "epoch: 47, loss: 1.0114963054656982, weight: 1.8383976221084595, bias: 1.0312213897705078\n",
      "epoch: 48, loss: 1.0100783109664917, weight: 1.8493677377700806, bias: 1.0196833610534668\n",
      "epoch: 49, loss: 1.0088458061218262, weight: 1.8496198654174805, bias: 1.0050246715545654\n",
      "epoch: 50, loss: 1.0077738761901855, weight: 1.8582617044448853, bias: 0.9946122765541077\n",
      "epoch: 51, loss: 1.0068415403366089, weight: 1.859254240989685, bias: 0.9821385145187378\n",
      "epoch: 52, loss: 1.0060299634933472, weight: 1.8661348819732666, bias: 0.9728113412857056\n",
      "epoch: 53, loss: 1.0053235292434692, weight: 1.8675472736358643, bias: 0.962153971195221\n",
      "epoch: 54, loss: 1.0047085285186768, weight: 1.8730828762054443, bias: 0.9538463950157166\n",
      "epoch: 55, loss: 1.0041728019714355, weight: 1.8747012615203857, bias: 0.9447097182273865\n",
      "epoch: 56, loss: 1.0037063360214233, weight: 1.8791991472244263, bias: 0.9373430013656616\n",
      "epoch: 57, loss: 1.0033000707626343, weight: 1.880884051322937, bias: 0.9294875264167786\n",
      "epoch: 58, loss: 1.0029460191726685, weight: 1.8845728635787964, bias: 0.9229777455329895\n",
      "epoch: 59, loss: 1.0026376247406006, weight: 1.8862355947494507, bias: 0.9162076115608215\n",
      "epoch: 60, loss: 1.0023690462112427, weight: 1.8892866373062134, bias: 0.9104709029197693\n",
      "epoch: 61, loss: 1.0021350383758545, weight: 1.8908734321594238, bias: 0.9046245813369751\n",
      "epoch: 62, loss: 1.0019309520721436, weight: 1.8934162855148315, bias: 0.8995801210403442\n",
      "epoch: 63, loss: 1.001753330230713, weight: 1.8948967456817627, bias: 0.8945232629776001\n",
      "epoch: 64, loss: 1.0015984773635864, weight: 1.8970305919647217, bias: 0.8900951743125916\n",
      "epoch: 65, loss: 1.001463532447815, weight: 1.8983898162841797, bias: 0.8857152462005615\n",
      "epoch: 66, loss: 1.0013459920883179, weight: 1.900191307067871, bias: 0.8818337321281433\n",
      "epoch: 67, loss: 1.0012433528900146, weight: 1.901424765586853, bias: 0.8780357837677002\n",
      "epoch: 68, loss: 1.0011543035507202, weight: 1.9029535055160522, bias: 0.8746371269226074\n",
      "epoch: 69, loss: 1.001076340675354, weight: 1.904063105583191, bias: 0.871340811252594\n",
      "epoch: 70, loss: 1.0010086297988892, weight: 1.9053661823272705, bias: 0.8683676719665527\n",
      "epoch: 71, loss: 1.0009493827819824, weight: 1.9063576459884644, bias: 0.8655046224594116\n",
      "epoch: 72, loss: 1.0008978843688965, weight: 1.9074726104736328, bias: 0.8629055619239807\n",
      "epoch: 73, loss: 1.0008530616760254, weight: 1.9083540439605713, bias: 0.8604173064231873\n",
      "epoch: 74, loss: 1.0008139610290527, weight: 1.909311056137085, bias: 0.8581466674804688\n",
      "epoch: 75, loss: 1.0007798671722412, weight: 1.9100914001464844, bias: 0.8559829592704773\n",
      "epoch: 76, loss: 1.000750184059143, weight: 1.9109152555465698, bias: 0.8540002107620239\n",
      "epoch: 77, loss: 1.0007243156433105, weight: 1.9116039276123047, bias: 0.8521179556846619\n",
      "epoch: 78, loss: 1.000701904296875, weight: 1.9123144149780273, bias: 0.8503871560096741\n",
      "epoch: 79, loss: 1.0006821155548096, weight: 1.9129209518432617, bias: 0.8487493395805359\n",
      "epoch: 80, loss: 1.0006649494171143, weight: 1.9135347604751587, bias: 0.8472388982772827\n",
      "epoch: 81, loss: 1.0006500482559204, weight: 1.9140677452087402, bias: 0.8458133339881897\n",
      "epoch: 82, loss: 1.0006370544433594, weight: 1.914599061012268, bias: 0.8444956541061401\n",
      "epoch: 83, loss: 1.000625729560852, weight: 1.9150664806365967, bias: 0.8432544469833374\n",
      "epoch: 84, loss: 1.0006158351898193, weight: 1.9155269861221313, bias: 0.8421051502227783\n",
      "epoch: 85, loss: 1.0006072521209717, weight: 1.9159365892410278, bias: 0.8410243391990662\n",
      "epoch: 86, loss: 1.00059974193573, weight: 1.916335940361023, bias: 0.8400220274925232\n",
      "epoch: 87, loss: 1.0005933046340942, weight: 1.9166945219039917, bias: 0.839080810546875\n",
      "epoch: 88, loss: 1.0005874633789062, weight: 1.9170411825180054, bias: 0.8382068276405334\n",
      "epoch: 89, loss: 1.0005824565887451, weight: 1.9173548221588135, bias: 0.8373870253562927\n",
      "epoch: 90, loss: 1.0005781650543213, weight: 1.9176559448242188, bias: 0.8366249799728394\n",
      "epoch: 91, loss: 1.0005744695663452, weight: 1.9179301261901855, bias: 0.8359108567237854\n",
      "epoch: 92, loss: 1.0005710124969482, weight: 1.918191909790039, bias: 0.8352465033531189\n",
      "epoch: 93, loss: 1.0005682706832886, weight: 1.918431282043457, bias: 0.8346243500709534\n",
      "epoch: 94, loss: 1.000565767288208, weight: 1.9186590909957886, bias: 0.8340452313423157\n",
      "epoch: 95, loss: 1.000563621520996, weight: 1.9188679456710815, bias: 0.8335031270980835\n"
     ]
    },
    {
     "name": "stdout",
     "output_type": "stream",
     "text": [
      "epoch: 96, loss: 1.0005617141723633, weight: 1.9190661907196045, bias: 0.8329983949661255\n",
      "epoch: 97, loss: 1.0005600452423096, weight: 1.9192485809326172, bias: 0.8325260877609253\n",
      "epoch: 98, loss: 1.0005584955215454, weight: 1.9194209575653076, bias: 0.8320860862731934\n",
      "epoch: 99, loss: 1.0005574226379395, weight: 1.9195802211761475, bias: 0.8316746354103088\n"
     ]
    }
   ],
   "source": [
    "model = Model()\n",
    "#epochs = 10\n",
    "#learning_rate = 0.1\n",
    "epochs = 100\n",
    "learning_rate = 0.15\n",
    "\n",
    "for epoch in range(epochs):\n",
    "    y_predicted = model(x)\n",
    "    loss = calculate_loss(y, y_predicted)\n",
    "    print(f\"epoch: {epoch}, loss: {loss.numpy()}, weight: {model.weight.numpy()}, bias: {model.bias.numpy()}\")\n",
    "    train(model, x, y, learning_rate)"
   ]
  },
  {
   "cell_type": "code",
   "execution_count": 113,
   "metadata": {},
   "outputs": [
    {
     "name": "stdout",
     "output_type": "stream",
     "text": [
      "weight: 1.9197301864624023\n",
      "bias: 0.8312910795211792\n"
     ]
    }
   ],
   "source": [
    "print(f\"weight: {model.weight.numpy()}\")\n",
    "print(f\"bias: {model.bias.numpy()}\")"
   ]
  },
  {
   "cell_type": "code",
   "execution_count": 119,
   "metadata": {},
   "outputs": [],
   "source": [
    "new_x = np.linspace(0,4,50)\n",
    "new_y = model.weight.numpy() * new_x + model.bias.numpy()"
   ]
  },
  {
   "cell_type": "code",
   "execution_count": 125,
   "metadata": {},
   "outputs": [
    {
     "name": "stdout",
     "output_type": "stream",
     "text": [
      "0.0 4.0\n",
      "0.8312910795211792 8.510211825370789\n"
     ]
    }
   ],
   "source": [
    "print(new_x[0], new_x[-1])\n",
    "print(new_y[0], new_y[-1])"
   ]
  },
  {
   "cell_type": "code",
   "execution_count": 136,
   "metadata": {},
   "outputs": [
    {
     "data": {
      "text/plain": [
       "[<matplotlib.lines.Line2D at 0x64786a390>]"
      ]
     },
     "execution_count": 136,
     "metadata": {},
     "output_type": "execute_result"
    },
    {
     "data": {
      "image/png": "[encoded data removed]",
      "text/plain": [
       "<Figure size 432x288 with 1 Axes>"
      ]
     },
     "metadata": {
      "needs_background": "light"
     },
     "output_type": "display_data"
    }
   ],
   "source": [
    "plt.scatter(x,y)\n",
    "#plt.scatter(new_x,new_y)\n",
    "plt.plot([new_x[0], new_x[-1]], [new_y[0], new_y[-1]], color='orange', linewidth=3)"
   ]
  },
  {
   "cell_type": "code",
   "execution_count": 143,
   "metadata": {},
   "outputs": [
    {
     "name": "stdout",
     "output_type": "stream",
     "text": [
      "x = 0, f(x) = 0.8312910795211792\n",
      "x = 1, f(x) = 2.751021385192871\n",
      "x = 2, f(x) = 4.670751571655273\n",
      "x = 3, f(x) = 6.590481758117676\n",
      "x = 4, f(x) = 8.510211944580078\n",
      "x = 5, f(x) = 10.42994213104248\n",
      "x = 6, f(x) = 12.349672317504883\n",
      "x = 7, f(x) = 14.269402503967285\n",
      "x = 8, f(x) = 16.189132690429688\n",
      "x = 9, f(x) = 18.108863830566406\n",
      "x = 10, f(x) = 20.028593063354492\n",
      "x = 11, f(x) = 21.948322296142578\n",
      "x = 12, f(x) = 23.868053436279297\n",
      "x = 13, f(x) = 25.787784576416016\n",
      "x = 14, f(x) = 27.7075138092041\n",
      "x = 15, f(x) = 29.627243041992188\n",
      "x = 16, f(x) = 31.546974182128906\n",
      "x = 17, f(x) = 33.466705322265625\n",
      "x = 18, f(x) = 35.386436462402344\n",
      "x = 19, f(x) = 37.3061637878418\n",
      "x = 20, f(x) = 39.225894927978516\n"
     ]
    }
   ],
   "source": [
    "for val in range(21):\n",
    "    print(f\"x = {val}, f(x) = {model(val).numpy()}\")"
   ]
  },
  {
   "cell_type": "code",
   "execution_count": null,
   "metadata": {},
   "outputs": [],
   "source": []
  }
 ],
 "metadata": {
  "kernelspec": {
   "display_name": "Python 3",
   "language": "python",
   "name": "python3"
  },
  "language_info": {
   "codemirror_mode": {
    "name": "ipython",
    "version": 3
   },
   "file_extension": ".py",
   "mimetype": "text/x-python",
   "name": "python",
   "nbconvert_exporter": "python",
   "pygments_lexer": "ipython3",
   "version": "3.7.7"
  }
 },
 "nbformat": 4,
 "nbformat_minor": 4
}
